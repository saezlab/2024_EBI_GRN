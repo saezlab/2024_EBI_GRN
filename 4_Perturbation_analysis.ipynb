{
 "cells": [
  {
   "cell_type": "markdown",
   "id": "c221ef8b-cd9e-42eb-992b-75bc369857bd",
   "metadata": {},
   "source": [
    "# In-silico perturbation analysis\n",
    "\n",
    "CellOracle ([docs](https://morris-lab.github.io/CellOracle.documentation), [paper](https://doi.org/10.1038/s41586-022-05688-9)) also allows to perform in-silico perturbation experiments:\n",
    "\n",
    "\n",
    "<img src=\"perturb.png\" width=\"800\" height=\"600\" />\n",
    "\n",
    "In these simulations, CellOracle infers how the change of expression of a transcription factor (TF) can affect future expression by propagating the change through the GRN.\n",
    "\n",
    "These simulated changes of gene expression can be used to compute identity vectors (similar to cell velocity), which can be compared with the expected pseudotime.\n",
    "\n",
    "Follow this [vignette](https://morris-lab.github.io/CellOracle.documentation/notebooks/05_simulation/Gata1_KO_simulation_with_Paul_etal_2015_data.html) and try to answer these questions:\n",
    "\n",
    "1. Can you find TFs that accelerate/decelerate the trajectory?\n",
    "2. Which strategy works better at identifying key TFs in perturbation experiments, classic network topology metrics or TF activities?\n",
    "3. What happens if you perturb combination of TFs?"
   ]
  },
  {
   "cell_type": "code",
   "execution_count": null,
   "id": "d3bbf306-e9ba-4aa5-be92-e2ea7456b2db",
   "metadata": {},
   "outputs": [],
   "source": []
  }
 ],
 "metadata": {
  "kernelspec": {
   "display_name": "Python 3 (ipykernel)",
   "language": "python",
   "name": "python3"
  },
  "language_info": {
   "codemirror_mode": {
    "name": "ipython",
    "version": 3
   },
   "file_extension": ".py",
   "mimetype": "text/x-python",
   "name": "python",
   "nbconvert_exporter": "python",
   "pygments_lexer": "ipython3",
   "version": "3.10.12"
  }
 },
 "nbformat": 4,
 "nbformat_minor": 5
}
