{
 "cells": [
  {
   "cell_type": "markdown",
   "id": "1c61cf13-d9ba-4daa-b095-dc6199c88f42",
   "metadata": {},
   "source": [
    "# TF activity inference\n",
    "\n",
    "Another way to identify important transcription factors (TF) is to infer their activities from transcriptomics data. To do so, we need gene expression data, a GRN network and an enrichment methods. \n",
    "\n",
    "In this notebook we will use the python framework `decoupler`([docs](https://decoupler-py.readthedocs.io/), [paper](https://doi.org/10.1093/bioadv/vbac016)) to infer TF activities. \n",
    "\n",
    "<img src=\"https://decoupler-py.readthedocs.io/en/latest/_images/graphical_abstract.png\" width=\"600\" height=\"400\" />\n",
    "\n",
    "Activity inference helps in determining which TFs are relevant in each step of the trajectory, which can help in identifying candidates for in-silico perturbation experiments.\n",
    "\n",
    "Follow this [vignette](https://decoupler-py.readthedocs.io/en/latest/notebooks/dorothea.html) and try to answer these questions:\n",
    "\n",
    "- Is TF expression a good estimate for TF activity? Does this assumption affect GRN inference?\n",
    "- Which TFs are more important across different parts of the trajectory?\n",
    "- Try to use the prior-knowledge GRN from `decoupler`. Are TF activities comparable to context specific GRNs?"
   ]
  },
  {
   "cell_type": "code",
   "execution_count": null,
   "id": "d5efe103-1fcf-41d1-a0f9-44f56add3639",
   "metadata": {},
   "outputs": [],
   "source": []
  }
 ],
 "metadata": {
  "kernelspec": {
   "display_name": "Python 3 (ipykernel)",
   "language": "python",
   "name": "python3"
  },
  "language_info": {
   "codemirror_mode": {
    "name": "ipython",
    "version": 3
   },
   "file_extension": ".py",
   "mimetype": "text/x-python",
   "name": "python",
   "nbconvert_exporter": "python",
   "pygments_lexer": "ipython3",
   "version": "3.10.12"
  }
 },
 "nbformat": 4,
 "nbformat_minor": 5
}
