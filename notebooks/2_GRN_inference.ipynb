{
 "cells": [
  {
   "cell_type": "markdown",
   "id": "5cb08d91-8bfb-4627-93d5-4195abe28516",
   "metadata": {},
   "source": [
    "# Inference of multimodal GRNs\n",
    "\n",
    "To infer gene regulatory networks (GRNs) from transcriptomics and chromatin accessibility data at the single-cell resolution we will use the python framework CellOracle ([docs](https://morris-lab.github.io/CellOracle.documentation), [paper](https://doi.org/10.1038/s41586-022-05688-9)).\n",
    "\n",
    "It starts by generating a \"scaffold\" of regulatory link from the scATAC-seq data alone and then it contextualizes them to each cell type cluster using scRNA-seq data:\n",
    "\n",
    "<img src=\"../src/celloracle.png\" width=\"600\" height=\"400\" />\n",
    "\n",
    "\n",
    "## Scaffold of regulatory links\n",
    "In this notebook, the scaffold GRN has been already generated for the sake of time. However, since it is one of the most crucial steps we will revise how is it done:\n",
    "\n",
    "1. Inference of co-accessibility with Cicero ([docs](https://morris-lab.github.io/CellOracle.documentation/notebooks/01_ATAC-seq_data_processing/option1_scATAC-seq_data_analysis_with_cicero/01_atacdata_analysis_with_cicero_and_monocle3.html))\n",
    "2. Gene Transcription Starting Site (TSS) annotation ([docs](https://morris-lab.github.io/CellOracle.documentation/notebooks/01_ATAC-seq_data_processing/option1_scATAC-seq_data_analysis_with_cicero/02_preprocess_peak_data.html))\n",
    "3. Transcription factor (TF) motif scanning ([docs](https://morris-lab.github.io/CellOracle.documentation/notebooks/02_motif_scan/02_atac_peaks_to_TFinfo_with_celloracle_20200801.html))\n",
    "\n",
    "Explore these vignettes to better grasp how the pipeline works. Can you answer these questions?\n",
    "\n",
    "- Co-accessibility: In `run_cicero` there is the parameter `window` set to 500k bp by default. How do you think it can affect the results?\n",
    "- TSS annotation: Do you think TSS annotation is robust? Where can it fail?\n",
    "- Motif scanning: What happens if you change the scanning algorithm? And the motif database?\n",
    "\n",
    "## Contextualization with transcriptomics\n",
    "\n",
    "From the scaffold regulatory links, build GRNs for each of the cell type clusters in your selected trajectory following this [vignette](https://morris-lab.github.io/CellOracle.documentation/notebooks/04_Network_analysis/Network_analysis_with_Paul_etal_2015_data.html). Can you answer these questions?\n",
    "\n",
    "- How many TFs do your GRNs have? And TF-Gene edges?\n",
    "- How similar or different are your GRNs? What metrics can you use?\n",
    "- Which TFs seem to play a big role in your trajectory? Do they make biological sense?\n",
    "\n",
    "To load the inferred scaffold regulatory links and your trajectory run this:"
   ]
  },
  {
   "cell_type": "code",
   "execution_count": null,
   "id": "8cc0bcfb-1035-4305-a48d-1e54cb1b5960",
   "metadata": {},
   "outputs": [],
   "source": [
    "import celloracle as co\n",
    "import scanpy as sc\n",
    "import pandas as pd\n",
    "import numpy as np\n",
    "import matplotlib.pyplot as plt\n",
    "%matplotlib inline\n",
    "\n",
    "\n",
    "# Load base GRN\n",
    "base_GRN = pd.read_csv('base_GRN_dataframe.csv', index_col=0)\n",
    "\n",
    "# Read trajectory AnnData\n",
    "adata = sc.read_h5ad('name_of_your_trajectory.h5ad')"
   ]
  }
 ],
 "metadata": {
  "kernelspec": {
   "display_name": "Python 3 (ipykernel)",
   "language": "python",
   "name": "python3"
  },
  "language_info": {
   "codemirror_mode": {
    "name": "ipython",
    "version": 3
   },
   "file_extension": ".py",
   "mimetype": "text/x-python",
   "name": "python",
   "nbconvert_exporter": "python",
   "pygments_lexer": "ipython3",
   "version": "3.10.12"
  }
 },
 "nbformat": 4,
 "nbformat_minor": 5
}
